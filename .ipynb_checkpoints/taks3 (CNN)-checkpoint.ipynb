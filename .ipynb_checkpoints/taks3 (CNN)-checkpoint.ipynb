{
 "cells": [
  {
   "cell_type": "code",
   "execution_count": 1,
   "id": "89bf5602",
   "metadata": {},
   "outputs": [],
   "source": [
    "import pandas as pd\n",
    "import numpy as np\n",
    "from sklearn.model_selection import train_test_split\n",
    "from sklearn.preprocessing import StandardScaler, LabelEncoder\n",
    "import seaborn as sns\n",
    "import matplotlib.pyplot as plt\n",
    "import tensorflow as tf\n",
    "from tensorflow.keras.models import Sequential\n",
    "from tensorflow.keras.layers import Dense, Conv1D, Flatten, MaxPooling1D, Dropout\n",
    "from tensorflow.keras.utils import to_categorical\n",
    "from sklearn.metrics import accuracy_score, classification_report"
   ]
  },
  {
   "cell_type": "code",
   "execution_count": 2,
   "id": "a3c10c25",
   "metadata": {},
   "outputs": [],
   "source": [
    "path=\"./ObesityDataSet.csv\"\n",
    "df=pd.read_csv(path)"
   ]
  },
  {
   "cell_type": "code",
   "execution_count": 3,
   "id": "e34bd039",
   "metadata": {},
   "outputs": [
    {
     "data": {
      "text/html": [
       "<div>\n",
       "<style scoped>\n",
       "    .dataframe tbody tr th:only-of-type {\n",
       "        vertical-align: middle;\n",
       "    }\n",
       "\n",
       "    .dataframe tbody tr th {\n",
       "        vertical-align: top;\n",
       "    }\n",
       "\n",
       "    .dataframe thead th {\n",
       "        text-align: right;\n",
       "    }\n",
       "</style>\n",
       "<table border=\"1\" class=\"dataframe\">\n",
       "  <thead>\n",
       "    <tr style=\"text-align: right;\">\n",
       "      <th></th>\n",
       "      <th>Gender</th>\n",
       "      <th>Age</th>\n",
       "      <th>Height</th>\n",
       "      <th>Weight</th>\n",
       "      <th>family_history_with_overweight</th>\n",
       "      <th>FAVC</th>\n",
       "      <th>FCVC</th>\n",
       "      <th>NCP</th>\n",
       "      <th>CAEC</th>\n",
       "      <th>SMOKE</th>\n",
       "      <th>CH2O</th>\n",
       "      <th>SCC</th>\n",
       "      <th>FAF</th>\n",
       "      <th>TUE</th>\n",
       "      <th>CALC</th>\n",
       "      <th>MTRANS</th>\n",
       "      <th>NObeyesdad</th>\n",
       "    </tr>\n",
       "  </thead>\n",
       "  <tbody>\n",
       "    <tr>\n",
       "      <th>0</th>\n",
       "      <td>Female</td>\n",
       "      <td>21.0</td>\n",
       "      <td>1.62</td>\n",
       "      <td>64.0</td>\n",
       "      <td>yes</td>\n",
       "      <td>no</td>\n",
       "      <td>2.0</td>\n",
       "      <td>3.0</td>\n",
       "      <td>Sometimes</td>\n",
       "      <td>no</td>\n",
       "      <td>2.0</td>\n",
       "      <td>no</td>\n",
       "      <td>0.0</td>\n",
       "      <td>1.0</td>\n",
       "      <td>no</td>\n",
       "      <td>Public_Transportation</td>\n",
       "      <td>Normal_Weight</td>\n",
       "    </tr>\n",
       "    <tr>\n",
       "      <th>1</th>\n",
       "      <td>Female</td>\n",
       "      <td>21.0</td>\n",
       "      <td>1.52</td>\n",
       "      <td>56.0</td>\n",
       "      <td>yes</td>\n",
       "      <td>no</td>\n",
       "      <td>3.0</td>\n",
       "      <td>3.0</td>\n",
       "      <td>Sometimes</td>\n",
       "      <td>yes</td>\n",
       "      <td>3.0</td>\n",
       "      <td>yes</td>\n",
       "      <td>3.0</td>\n",
       "      <td>0.0</td>\n",
       "      <td>Sometimes</td>\n",
       "      <td>Public_Transportation</td>\n",
       "      <td>Normal_Weight</td>\n",
       "    </tr>\n",
       "    <tr>\n",
       "      <th>2</th>\n",
       "      <td>Male</td>\n",
       "      <td>23.0</td>\n",
       "      <td>1.80</td>\n",
       "      <td>77.0</td>\n",
       "      <td>yes</td>\n",
       "      <td>no</td>\n",
       "      <td>2.0</td>\n",
       "      <td>3.0</td>\n",
       "      <td>Sometimes</td>\n",
       "      <td>no</td>\n",
       "      <td>2.0</td>\n",
       "      <td>no</td>\n",
       "      <td>2.0</td>\n",
       "      <td>1.0</td>\n",
       "      <td>Frequently</td>\n",
       "      <td>Public_Transportation</td>\n",
       "      <td>Normal_Weight</td>\n",
       "    </tr>\n",
       "    <tr>\n",
       "      <th>3</th>\n",
       "      <td>Male</td>\n",
       "      <td>27.0</td>\n",
       "      <td>1.80</td>\n",
       "      <td>87.0</td>\n",
       "      <td>no</td>\n",
       "      <td>no</td>\n",
       "      <td>3.0</td>\n",
       "      <td>3.0</td>\n",
       "      <td>Sometimes</td>\n",
       "      <td>no</td>\n",
       "      <td>2.0</td>\n",
       "      <td>no</td>\n",
       "      <td>2.0</td>\n",
       "      <td>0.0</td>\n",
       "      <td>Frequently</td>\n",
       "      <td>Walking</td>\n",
       "      <td>Overweight_Level_I</td>\n",
       "    </tr>\n",
       "    <tr>\n",
       "      <th>4</th>\n",
       "      <td>Male</td>\n",
       "      <td>22.0</td>\n",
       "      <td>1.78</td>\n",
       "      <td>89.8</td>\n",
       "      <td>no</td>\n",
       "      <td>no</td>\n",
       "      <td>2.0</td>\n",
       "      <td>1.0</td>\n",
       "      <td>Sometimes</td>\n",
       "      <td>no</td>\n",
       "      <td>2.0</td>\n",
       "      <td>no</td>\n",
       "      <td>0.0</td>\n",
       "      <td>0.0</td>\n",
       "      <td>Sometimes</td>\n",
       "      <td>Public_Transportation</td>\n",
       "      <td>Overweight_Level_II</td>\n",
       "    </tr>\n",
       "  </tbody>\n",
       "</table>\n",
       "</div>"
      ],
      "text/plain": [
       "   Gender   Age  Height  Weight family_history_with_overweight FAVC  FCVC  \\\n",
       "0  Female  21.0    1.62    64.0                            yes   no   2.0   \n",
       "1  Female  21.0    1.52    56.0                            yes   no   3.0   \n",
       "2    Male  23.0    1.80    77.0                            yes   no   2.0   \n",
       "3    Male  27.0    1.80    87.0                             no   no   3.0   \n",
       "4    Male  22.0    1.78    89.8                             no   no   2.0   \n",
       "\n",
       "   NCP       CAEC SMOKE  CH2O  SCC  FAF  TUE        CALC  \\\n",
       "0  3.0  Sometimes    no   2.0   no  0.0  1.0          no   \n",
       "1  3.0  Sometimes   yes   3.0  yes  3.0  0.0   Sometimes   \n",
       "2  3.0  Sometimes    no   2.0   no  2.0  1.0  Frequently   \n",
       "3  3.0  Sometimes    no   2.0   no  2.0  0.0  Frequently   \n",
       "4  1.0  Sometimes    no   2.0   no  0.0  0.0   Sometimes   \n",
       "\n",
       "                  MTRANS           NObeyesdad  \n",
       "0  Public_Transportation        Normal_Weight  \n",
       "1  Public_Transportation        Normal_Weight  \n",
       "2  Public_Transportation        Normal_Weight  \n",
       "3                Walking   Overweight_Level_I  \n",
       "4  Public_Transportation  Overweight_Level_II  "
      ]
     },
     "execution_count": 3,
     "metadata": {},
     "output_type": "execute_result"
    }
   ],
   "source": [
    "df.head()"
   ]
  },
  {
   "cell_type": "code",
   "execution_count": 4,
   "id": "520e98d1",
   "metadata": {},
   "outputs": [
    {
     "data": {
      "text/plain": [
       "Gender                            0\n",
       "Age                               0\n",
       "Height                            0\n",
       "Weight                            0\n",
       "family_history_with_overweight    0\n",
       "FAVC                              0\n",
       "FCVC                              0\n",
       "NCP                               0\n",
       "CAEC                              0\n",
       "SMOKE                             0\n",
       "CH2O                              0\n",
       "SCC                               0\n",
       "FAF                               0\n",
       "TUE                               0\n",
       "CALC                              0\n",
       "MTRANS                            0\n",
       "NObeyesdad                        0\n",
       "dtype: int64"
      ]
     },
     "execution_count": 4,
     "metadata": {},
     "output_type": "execute_result"
    }
   ],
   "source": [
    "df.isnull().sum()"
   ]
  },
  {
   "cell_type": "code",
   "execution_count": 5,
   "id": "3615ae1d",
   "metadata": {},
   "outputs": [],
   "source": [
    "label_encoders = {}\n",
    "for column in df.select_dtypes(include=['object']).columns:\n",
    "    le = LabelEncoder()\n",
    "    df[column] = le.fit_transform(df[column])\n",
    "    label_encoders[column] = le"
   ]
  },
  {
   "cell_type": "code",
   "execution_count": 6,
   "id": "5ba52e88",
   "metadata": {},
   "outputs": [],
   "source": [
    "X = df.drop('NObeyesdad', axis=1)\n",
    "y = df['NObeyesdad']"
   ]
  },
  {
   "cell_type": "code",
   "execution_count": 9,
   "id": "6b335a09",
   "metadata": {},
   "outputs": [],
   "source": [
    "scaler = StandardScaler()\n",
    "X_scaled = scaler.fit_transform(X)"
   ]
  },
  {
   "cell_type": "code",
   "execution_count": 10,
   "id": "a7cd71d3-4b8c-4328-807e-8b906e2b6b61",
   "metadata": {},
   "outputs": [],
   "source": [
    "label_encoder = LabelEncoder()\n",
    "y_encoded = label_encoder.fit_transform(y)"
   ]
  },
  {
   "cell_type": "code",
   "execution_count": 11,
   "id": "870a0115-50f6-41f2-8e04-d7b3eaab7bb0",
   "metadata": {},
   "outputs": [],
   "source": [
    "y_categorical = to_categorical(y_encoded)"
   ]
  },
  {
   "cell_type": "code",
   "execution_count": 12,
   "id": "22de4114-fe2b-43cd-8a41-129204c60a39",
   "metadata": {},
   "outputs": [],
   "source": [
    "X_train, X_test, y_train, y_test = train_test_split(X_scaled, y_categorical, test_size=0.2, random_state=42)"
   ]
  },
  {
   "cell_type": "code",
   "execution_count": 13,
   "id": "d527d512-8eba-4090-bd11-5a8761270dcb",
   "metadata": {},
   "outputs": [],
   "source": [
    "X_train_cnn = X_train.reshape((X_train.shape[0], X_train.shape[1], 1))\n",
    "X_test_cnn = X_test.reshape((X_test.shape[0], X_test.shape[1], 1))"
   ]
  },
  {
   "cell_type": "code",
   "execution_count": 14,
   "id": "0ccd3962-8610-4c2f-b0e1-db728ed302f3",
   "metadata": {},
   "outputs": [],
   "source": [
    "cnn_model = Sequential([\n",
    "    Conv1D(32, 2, activation='relu', input_shape=(X_train.shape[1], 1)),\n",
    "    MaxPooling1D(),\n",
    "    Dropout(0.2),\n",
    "    Conv1D(64, 2, activation='relu'),\n",
    "    MaxPooling1D(),\n",
    "    Dropout(0.2),\n",
    "    Conv1D(128, 2, activation='relu'),\n",
    "    Flatten(),\n",
    "    Dense(64, activation='relu'),\n",
    "    Dense(len(np.unique(y)), activation='softmax')\n",
    "])"
   ]
  },
  {
   "cell_type": "code",
   "execution_count": 15,
   "id": "89c3d791-2a43-4342-bc13-d9ec1cb48f6a",
   "metadata": {},
   "outputs": [
    {
     "name": "stdout",
     "output_type": "stream",
     "text": [
      "Epoch 1/20\n",
      "43/43 [==============================] - 2s 13ms/step - loss: 1.8313 - accuracy: 0.2881 - val_loss: 1.5671 - val_accuracy: 0.4438\n",
      "Epoch 2/20\n",
      "43/43 [==============================] - 0s 5ms/step - loss: 1.3924 - accuracy: 0.4519 - val_loss: 1.1458 - val_accuracy: 0.5266\n",
      "Epoch 3/20\n",
      "43/43 [==============================] - 0s 5ms/step - loss: 1.1492 - accuracy: 0.5356 - val_loss: 1.0057 - val_accuracy: 0.5858\n",
      "Epoch 4/20\n",
      "43/43 [==============================] - 0s 5ms/step - loss: 1.0057 - accuracy: 0.5970 - val_loss: 0.8709 - val_accuracy: 0.6686\n",
      "Epoch 5/20\n",
      "43/43 [==============================] - 0s 5ms/step - loss: 0.9290 - accuracy: 0.6378 - val_loss: 0.7929 - val_accuracy: 0.7308\n",
      "Epoch 6/20\n",
      "43/43 [==============================] - 0s 5ms/step - loss: 0.8627 - accuracy: 0.6696 - val_loss: 0.7185 - val_accuracy: 0.7426\n",
      "Epoch 7/20\n",
      "43/43 [==============================] - 0s 5ms/step - loss: 0.8098 - accuracy: 0.6919 - val_loss: 0.6667 - val_accuracy: 0.7692\n",
      "Epoch 8/20\n",
      "43/43 [==============================] - 0s 5ms/step - loss: 0.7333 - accuracy: 0.7274 - val_loss: 0.6540 - val_accuracy: 0.7781\n",
      "Epoch 9/20\n",
      "43/43 [==============================] - 0s 5ms/step - loss: 0.7566 - accuracy: 0.7119 - val_loss: 0.6201 - val_accuracy: 0.7840\n",
      "Epoch 10/20\n",
      "43/43 [==============================] - 0s 5ms/step - loss: 0.6715 - accuracy: 0.7541 - val_loss: 0.5650 - val_accuracy: 0.8047\n",
      "Epoch 11/20\n",
      "43/43 [==============================] - 0s 5ms/step - loss: 0.6359 - accuracy: 0.7519 - val_loss: 0.5536 - val_accuracy: 0.8077\n",
      "Epoch 12/20\n",
      "43/43 [==============================] - 0s 5ms/step - loss: 0.5920 - accuracy: 0.7837 - val_loss: 0.5045 - val_accuracy: 0.8314\n",
      "Epoch 13/20\n",
      "43/43 [==============================] - 0s 5ms/step - loss: 0.5975 - accuracy: 0.7741 - val_loss: 0.5009 - val_accuracy: 0.8314\n",
      "Epoch 14/20\n",
      "43/43 [==============================] - 0s 5ms/step - loss: 0.5694 - accuracy: 0.7904 - val_loss: 0.4787 - val_accuracy: 0.8580\n",
      "Epoch 15/20\n",
      "43/43 [==============================] - 0s 5ms/step - loss: 0.5163 - accuracy: 0.8133 - val_loss: 0.4661 - val_accuracy: 0.8491\n",
      "Epoch 16/20\n",
      "43/43 [==============================] - 0s 5ms/step - loss: 0.4997 - accuracy: 0.8178 - val_loss: 0.4509 - val_accuracy: 0.8491\n",
      "Epoch 17/20\n",
      "43/43 [==============================] - 0s 5ms/step - loss: 0.5030 - accuracy: 0.8215 - val_loss: 0.4540 - val_accuracy: 0.8580\n",
      "Epoch 18/20\n",
      "43/43 [==============================] - 0s 5ms/step - loss: 0.5009 - accuracy: 0.8193 - val_loss: 0.4385 - val_accuracy: 0.8669\n",
      "Epoch 19/20\n",
      "43/43 [==============================] - 0s 5ms/step - loss: 0.4836 - accuracy: 0.8230 - val_loss: 0.4581 - val_accuracy: 0.8521\n",
      "Epoch 20/20\n",
      "43/43 [==============================] - 0s 5ms/step - loss: 0.4293 - accuracy: 0.8519 - val_loss: 0.4531 - val_accuracy: 0.8698\n"
     ]
    }
   ],
   "source": [
    "cnn_model.compile(optimizer='adam', loss='categorical_crossentropy', metrics=['accuracy'])\n",
    "history = cnn_model.fit(X_train_cnn, y_train, epochs=20, batch_size=32, validation_split=0.2)"
   ]
  },
  {
   "cell_type": "code",
   "execution_count": 16,
   "id": "f1581544-8447-4b8f-a595-ec5597f6ec36",
   "metadata": {},
   "outputs": [
    {
     "name": "stdout",
     "output_type": "stream",
     "text": [
      "14/14 [==============================] - 0s 2ms/step\n"
     ]
    }
   ],
   "source": [
    "y_pred_cnn = cnn_model.predict(X_test_cnn)\n",
    "y_pred_cnn_classes = np.argmax(y_pred_cnn, axis=1)\n",
    "y_test_cnn_classes = np.argmax(y_test, axis=1)"
   ]
  },
  {
   "cell_type": "code",
   "execution_count": 17,
   "id": "897746de-90ee-4918-9d09-f27aedc2c3a7",
   "metadata": {},
   "outputs": [],
   "source": [
    "accuracy_cnn = accuracy_score(y_test_cnn_classes, y_pred_cnn_classes)"
   ]
  },
  {
   "cell_type": "code",
   "execution_count": 18,
   "id": "c1b777de-4861-482f-a5c0-2d7ce5da2e78",
   "metadata": {},
   "outputs": [
    {
     "data": {
      "text/plain": [
       "0.8486997635933806"
      ]
     },
     "execution_count": 18,
     "metadata": {},
     "output_type": "execute_result"
    }
   ],
   "source": [
    "accuracy_cnn"
   ]
  },
  {
   "cell_type": "code",
   "execution_count": 19,
   "id": "3e68a4b8-4ece-4388-84d0-f19f4f5a66db",
   "metadata": {},
   "outputs": [
    {
     "data": {
      "text/plain": [
       "'              precision    recall  f1-score   support\\n\\n           0       0.74      0.96      0.84        56\\n           1       0.80      0.60      0.69        62\\n           2       0.94      0.92      0.93        78\\n           3       0.90      0.93      0.92        58\\n           4       1.00      1.00      1.00        63\\n           5       0.77      0.64      0.70        56\\n           6       0.75      0.86      0.80        50\\n\\n    accuracy                           0.85       423\\n   macro avg       0.84      0.85      0.84       423\\nweighted avg       0.85      0.85      0.84       423\\n'"
      ]
     },
     "execution_count": 19,
     "metadata": {},
     "output_type": "execute_result"
    }
   ],
   "source": [
    "classification_report(y_test_cnn_classes, y_pred_cnn_classes)"
   ]
  },
  {
   "cell_type": "code",
   "execution_count": null,
   "id": "c57f8748-0790-4dbf-a8ea-f6001e92f852",
   "metadata": {},
   "outputs": [],
   "source": []
  }
 ],
 "metadata": {
  "kernelspec": {
   "display_name": "Python 3 (ipykernel)",
   "language": "python",
   "name": "python3"
  },
  "language_info": {
   "codemirror_mode": {
    "name": "ipython",
    "version": 3
   },
   "file_extension": ".py",
   "mimetype": "text/x-python",
   "name": "python",
   "nbconvert_exporter": "python",
   "pygments_lexer": "ipython3",
   "version": "3.10.13"
  }
 },
 "nbformat": 4,
 "nbformat_minor": 5
}
